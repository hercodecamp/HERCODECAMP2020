{
 "cells": [
  {
   "cell_type": "markdown",
   "metadata": {},
   "source": [
    "<font color='#4857E2'><h1>HER CODE CAMP Intro to Python - Day 1 - The Basics</h1></font>"
   ]
  },
  {
   "cell_type": "markdown",
   "metadata": {},
   "source": [
    "Welcome to the Intro to Python coding workshop! We are going to learn all kinds of coding fundamentals, and along the way, we will learn code to put together a game of rock-paper-scissors! Code along with us in this notebook. When you're ready to run what's in your code block, hit <code><font color='#33a1fd'>ctrl+enter</font></code>!"
   ]
  },
  {
   "cell_type": "markdown",
   "metadata": {},
   "source": [
    "<font color='#357DED'><h2>Section 1: SYNTAX"
   ]
  },
  {
   "cell_type": "markdown",
   "metadata": {},
   "source": [
    "Many programmers start coding with a basic <b>\"Hello World!\"</b> program. The goal of this program is to print the message \"Hello World!\" on the screen. Let's run your first program in Python!"
   ]
  },
  {
   "cell_type": "code",
   "execution_count": 1,
   "metadata": {},
   "outputs": [
    {
     "name": "stdout",
     "output_type": "stream",
     "text": [
      "Hello World!\n"
     ]
    }
   ],
   "source": [
    "# run \"Hello World\" program\n",
    "print(\"Hello World!\")"
   ]
  },
  {
   "cell_type": "markdown",
   "metadata": {},
   "source": [
    "Now let's break apart the code that we just ran:\n",
    "\n",
    "<code><font color='#33a1fd'><b># run \"Hello World\" program</b></font></code>\n",
    "\n",
    "is a comment and will not be considered as code by Python. Every line that starts with # is a comment. You can use comments for whatever you want, such as explaining what certain lines of code do. This is especially useful for when other people read your code!\n",
    "\n",
    "<code><font color='#33a1fd'><b>print()</b></font></code>\n",
    "\n",
    "is a function. Functions perform specific tasks. The <code><font color='#33a1fd'><b>print()</b></font></code> function takes in an input message and tells the computer to print that message to the screen.\n",
    "\n",
    "The input message we passed into our function was <font color='#33a1fd'><b>\"Hello World!\"</b></font>. Notice that we put quotation marks (\" \") around the message. Any series of characters with quotation marks around it is called a <font color='#33a1fd'><b>string</b></font>. Try changing the string that we pass into the print function!"
   ]
  },
  {
   "cell_type": "code",
   "execution_count": 6,
   "metadata": {},
   "outputs": [
    {
     "name": "stdout",
     "output_type": "stream",
     "text": [
      "Hello HER CODE seCAMP!\n"
     ]
    }
   ],
   "source": [
    "print(\"Hello HER CODE seCAMP!\")"
   ]
  },
  {
   "cell_type": "markdown",
   "metadata": {},
   "source": [
    "We can also put single quotes (' ') around strings instead of double quotes (\" \"), they are equivalent!"
   ]
  },
  {
   "cell_type": "code",
   "execution_count": 7,
   "metadata": {},
   "outputs": [
    {
     "name": "stdout",
     "output_type": "stream",
     "text": [
      "Hello HER CODE CAMP!\n"
     ]
    }
   ],
   "source": [
    "print('Hello HER CODE CAMP!')"
   ]
  },
  {
   "cell_type": "markdown",
   "metadata": {},
   "source": [
    "The only import thing to remember is that if we use one type of quotation mark, we can't use it anywhere else in the string since the computer won't know how to interpret it!\n",
    "\n",
    "We can run into problems if our strings have apostrophes in them..."
   ]
  },
  {
   "cell_type": "code",
   "execution_count": 8,
   "metadata": {},
   "outputs": [
    {
     "ename": "SyntaxError",
     "evalue": "invalid syntax (<ipython-input-8-99f56e7a2e69>, line 1)",
     "output_type": "error",
     "traceback": [
      "\u001b[0;36m  File \u001b[0;32m\"<ipython-input-8-99f56e7a2e69>\"\u001b[0;36m, line \u001b[0;32m1\u001b[0m\n\u001b[0;31m    print('It's an awesome day today!')\u001b[0m\n\u001b[0m              ^\u001b[0m\n\u001b[0;31mSyntaxError\u001b[0m\u001b[0;31m:\u001b[0m invalid syntax\n"
     ]
    }
   ],
   "source": [
    "print('It's an awesome day today!')"
   ]
  },
  {
   "cell_type": "markdown",
   "metadata": {},
   "source": [
    "...that's why it's generally safer to use double quotes around strings &#128578;"
   ]
  },
  {
   "cell_type": "code",
   "execution_count": 9,
   "metadata": {},
   "outputs": [
    {
     "name": "stdout",
     "output_type": "stream",
     "text": [
      "It's an awesome day today!\n"
     ]
    }
   ],
   "source": [
    "print(\"It's an awesome day today!\")"
   ]
  },
  {
   "cell_type": "markdown",
   "metadata": {},
   "source": [
    "<font color='#357DED'><h2>Section 2: Variables</h2></font>"
   ]
  },
  {
   "cell_type": "markdown",
   "metadata": {},
   "source": [
    "If we want to print a string multiple times, it would get tiring typing it out each time. One thing we could do is assign the string to a <font color='#33a1fd'><b>variable</b></font>. You can think of a variable as bucket that stores information."
   ]
  },
  {
   "cell_type": "code",
   "execution_count": 10,
   "metadata": {},
   "outputs": [],
   "source": [
    "message = \"Hello HER CODE CAMP\""
   ]
  },
  {
   "cell_type": "markdown",
   "metadata": {},
   "source": [
    "Let's break it down:\n",
    "\n",
    "<code><font color='#33a1fd'><b>message</b></font></code>\n",
    "\n",
    "is the name we are giving to the variable. Notice that we don't use quotation marks!\n",
    "\n",
    "<code><font color='#33a1fd'><b>=</b></font></code>\n",
    "\n",
    "is the <font color='#33a1fd'><b>assignment operator</b></font>. We use this to set a variable to some value. It works by assigning the value on the right-hand side of the <code><b>=</b></code> to the left-hand side. This is not the same as the <code><b>=</b></code> you see in math class!\n",
    "\n",
    "<code><font color='#33a1fd'><b>\"Hello HER CODE CAMP\"</b></font></code>\n",
    "\n",
    "is the value we are assigning to the variable. Now, instead of typing out each time, we can use the variable we created! Give it a try:"
   ]
  },
  {
   "cell_type": "code",
   "execution_count": 11,
   "metadata": {},
   "outputs": [
    {
     "name": "stdout",
     "output_type": "stream",
     "text": [
      "Hello HER CODE CAMP\n"
     ]
    }
   ],
   "source": [
    "print(message)"
   ]
  },
  {
   "cell_type": "markdown",
   "metadata": {},
   "source": [
    "You can pretty much name a variable whatever you want, as long as it follows some rules:\n",
    "\n",
    "<ol>\n",
    "    <li>It can only consist of alphabetic characters (so A-Z, a-z), digits (0-9) and the \"_\" character ...that means no spaces!</li>\n",
    "    <li>It can't <em>only</em> contain digits</li>\n",
    "    <li>The first character <em>cannot</em> be a digit</li>\n",
    "    <li>It should <em>not</em> be the name of an existing function, because this might cause issues if you want to use that function later in your code. For example, <code><b>print()</b></code> is already a function, so don't make a variable called <code><b>print</b></code>! If you are not sure whether or not your variable name is already a function, see if it turns blue when you type it. If it does, that means it is a function, so choose another variable name!</li>\n",
    "</ol>\n",
    "\n",
    "Remember, variables don't contain quotation marks! Here are some examples:"
   ]
  },
  {
   "cell_type": "code",
   "execution_count": 12,
   "metadata": {},
   "outputs": [],
   "source": [
    "r = \"rock\"\n",
    "mon2fri = \"MondayTuesdayWednesdayThursdayFriday\""
   ]
  },
  {
   "cell_type": "markdown",
   "metadata": {},
   "source": [
    "If we want to change the value of our variable, we can rewrite the assignment statement:"
   ]
  },
  {
   "cell_type": "code",
   "execution_count": 13,
   "metadata": {},
   "outputs": [],
   "source": [
    "message = \"Player won the game :)\""
   ]
  },
  {
   "cell_type": "markdown",
   "metadata": {},
   "source": [
    "Now, when we call our <code><font color='#33a1fd'><b>print(message)</b></font></code> function, it will no longer print \"Hello HER CODE CAMP\". Instead, it will print the new value we assigned to our variable <code><font color='#33a1fd'><b>message</b></font></code>:"
   ]
  },
  {
   "cell_type": "code",
   "execution_count": 14,
   "metadata": {},
   "outputs": [
    {
     "name": "stdout",
     "output_type": "stream",
     "text": [
      "Player won the game :)\n"
     ]
    }
   ],
   "source": [
    "print(message)"
   ]
  },
  {
   "cell_type": "markdown",
   "metadata": {},
   "source": [
    "<font color='#357DED'><h3>Section 2.1: the input() function</h3></font>"
   ]
  },
  {
   "cell_type": "markdown",
   "metadata": {},
   "source": [
    "<code><font color='#33a1fd'><b>print()</b></font></code> isn't the only function we can use in Python. In fact, Python has a large variety of functions that we can use to do a whole bunch of things. We can use another function called <code><font color='#33a1fd'><b>input()</b></font></code>. The <code><font color='#33a1fd'><b>input()</b></font></code> function opens up a box where <em>you</em> can type something. Let's try it!"
   ]
  },
  {
   "cell_type": "code",
   "execution_count": 15,
   "metadata": {},
   "outputs": [
    {
     "name": "stdout",
     "output_type": "stream",
     "text": [
      "Hello\n"
     ]
    },
    {
     "data": {
      "text/plain": [
       "'Hello'"
      ]
     },
     "execution_count": 15,
     "metadata": {},
     "output_type": "execute_result"
    }
   ],
   "source": [
    "input()"
   ]
  },
  {
   "cell_type": "markdown",
   "metadata": {},
   "source": [
    "We can also write a message that prompts the user to type in something specific. We do this by writing a string inside the <code><font color='#33a1fd'><b>input()</b></font></code> function, just like we did with the <code><font color='#33a1fd'><b>print()</b></font></code> function. For example, let's say we want the player of a rock, paper, scissors game to input their move. We might type something like:"
   ]
  },
  {
   "cell_type": "code",
   "execution_count": 16,
   "metadata": {},
   "outputs": [
    {
     "name": "stdout",
     "output_type": "stream",
     "text": [
      "Choose your move: (rock, paper, or scissors)rock\n"
     ]
    },
    {
     "data": {
      "text/plain": [
       "'rock'"
      ]
     },
     "execution_count": 16,
     "metadata": {},
     "output_type": "execute_result"
    }
   ],
   "source": [
    "input(\"Choose your move: (rock, paper, or scissors)\")"
   ]
  },
  {
   "cell_type": "markdown",
   "metadata": {},
   "source": [
    "There's one problem...one we've run that code, we can't access the word <code><font color='#33a1fd'><b>rock</b></font></code> anymore. Whatever the user typed in was lost. Instead, we can store what the user wrote in a <font color='#33a1fd'><b>variable</b></font> and then we can keep the input forever!"
   ]
  },
  {
   "cell_type": "code",
   "execution_count": 17,
   "metadata": {},
   "outputs": [
    {
     "name": "stdout",
     "output_type": "stream",
     "text": [
      "Choose your move: (rock, paper, or scissors)paper\n"
     ]
    }
   ],
   "source": [
    "player_move = input(\"Choose your move: (rock, paper, or scissors)\")"
   ]
  },
  {
   "cell_type": "markdown",
   "metadata": {},
   "source": [
    "Now, we have stored what you have written in the variable <code><font color='#33a1fd'><b>player_move</b></font></code>. Let's try printing it!"
   ]
  },
  {
   "cell_type": "code",
   "execution_count": 18,
   "metadata": {},
   "outputs": [
    {
     "name": "stdout",
     "output_type": "stream",
     "text": [
      "paper\n"
     ]
    }
   ],
   "source": [
    "print(player_move)"
   ]
  },
  {
   "cell_type": "code",
   "execution_count": null,
   "metadata": {},
   "outputs": [],
   "source": []
  }
 ],
 "metadata": {
  "kernelspec": {
   "display_name": "Python 3",
   "language": "python",
   "name": "python3"
  },
  "language_info": {
   "codemirror_mode": {
    "name": "ipython",
    "version": 3
   },
   "file_extension": ".py",
   "mimetype": "text/x-python",
   "name": "python",
   "nbconvert_exporter": "python",
   "pygments_lexer": "ipython3",
   "version": "3.7.6"
  }
 },
 "nbformat": 4,
 "nbformat_minor": 4
}
