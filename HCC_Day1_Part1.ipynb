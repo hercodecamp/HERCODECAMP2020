{
 "cells": [
  {
   "cell_type": "markdown",
   "metadata": {},
   "source": [
    "<font color='#4857E2'><h1>HER CODE CAMP Intro to Python - Day 1 - The Basics</h1></font>"
   ]
  },
  {
   "cell_type": "markdown",
   "metadata": {},
   "source": [
    "Welcome to the Intro to Python coding workshop! We are going to learn all kinds of coding fundamentals, and along the way, we will learn code to put together a game of rock-paper-scissors! Code along with us in this notebook. When you're ready to run what's in your code block, hit <code><font color='#33a1fd'>ctrl+enter</font></code>!"
   ]
  },
  {
   "cell_type": "markdown",
   "metadata": {},
   "source": [
    "<font color='#357DED'><h2>Section 1: SYNTAX"
   ]
  },
  {
   "cell_type": "markdown",
   "metadata": {},
   "source": [
    "Many programmers start coding with a basic <b>\"Hello World!\"</b> program. The goal of this program is to print the message \"Hello World!\" on the screen. Let's run your first program in Python!"
   ]
  },
  {
   "cell_type": "code",
   "execution_count": 1,
   "metadata": {},
   "outputs": [
    {
     "name": "stdout",
     "output_type": "stream",
     "text": [
      "Hello World!\n"
     ]
    }
   ],
   "source": [
    "# run \"Hello World\" program\n",
    "print(\"Hello World!\")"
   ]
  },
  {
   "cell_type": "markdown",
   "metadata": {},
   "source": [
    "Now let's break apart the code that we just ran:\n",
    "\n",
    "<code><font color='#33a1fd'><b># run \"Hello World\" program</b></font></code>\n",
    "\n",
    "is a comment and will not be considered as code by Python. Every line that starts with # is a comment. You can use comments for whatever you want, such as explaining what certain lines of code do. This is especially useful for when other people read your code!\n",
    "\n",
    "<code><font color='#33a1fd'><b>print()</b></font></code>\n",
    "\n",
    "is a function. Functions perform specific tasks. The <code><font color='#33a1fd'><b>print()</b></font></code> function takes in an input message and tells the computer to print that message to the screen.\n",
    "\n",
    "The input message we passed into our function was <font color='#33a1fd'><b>\"Hello World!\"</b></font>. Notice that we put quotation marks (\" \") around the message. Any series of characters with quotation marks around it is called a <font color='#33a1fd'><b>string</b></font>. Try changing the string that we pass into the print function!"
   ]
  },
  {
   "cell_type": "code",
   "execution_count": 6,
   "metadata": {},
   "outputs": [
    {
     "name": "stdout",
     "output_type": "stream",
     "text": [
      "Hello HER CODE seCAMP!\n"
     ]
    }
   ],
   "source": [
    "print(\"Hello HER CODE seCAMP!\")"
   ]
  },
  {
   "cell_type": "markdown",
   "metadata": {},
   "source": [
    "We can also put single quotes (' ') around strings instead of double quotes (\" \"), they are equivalent!"
   ]
  },
  {
   "cell_type": "code",
   "execution_count": 7,
   "metadata": {},
   "outputs": [
    {
     "name": "stdout",
     "output_type": "stream",
     "text": [
      "Hello HER CODE CAMP!\n"
     ]
    }
   ],
   "source": [
    "print('Hello HER CODE CAMP!')"
   ]
  },
  {
   "cell_type": "markdown",
   "metadata": {},
   "source": [
    "The only import thing to remember is that if we use one type of quotation mark, we can't use it anywhere else in the string since the computer won't know how to interpret it!\n",
    "\n",
    "We can run into problems if our strings have apostrophes in them..."
   ]
  },
  {
   "cell_type": "code",
   "execution_count": 8,
   "metadata": {},
   "outputs": [
    {
     "ename": "SyntaxError",
     "evalue": "invalid syntax (<ipython-input-8-99f56e7a2e69>, line 1)",
     "output_type": "error",
     "traceback": [
      "\u001b[0;36m  File \u001b[0;32m\"<ipython-input-8-99f56e7a2e69>\"\u001b[0;36m, line \u001b[0;32m1\u001b[0m\n\u001b[0;31m    print('It's an awesome day today!')\u001b[0m\n\u001b[0m              ^\u001b[0m\n\u001b[0;31mSyntaxError\u001b[0m\u001b[0;31m:\u001b[0m invalid syntax\n"
     ]
    }
   ],
   "source": [
    "print('It's an awesome day today!')"
   ]
  },
  {
   "cell_type": "markdown",
   "metadata": {},
   "source": [
    "...that's why it's generally safer to use double quotes around strings &#128578"
   ]
  },
  {
   "cell_type": "code",
   "execution_count": null,
   "metadata": {},
   "outputs": [],
   "source": []
  }
 ],
 "metadata": {
  "kernelspec": {
   "display_name": "Python 3",
   "language": "python",
   "name": "python3"
  },
  "language_info": {
   "codemirror_mode": {
    "name": "ipython",
    "version": 3
   },
   "file_extension": ".py",
   "mimetype": "text/x-python",
   "name": "python",
   "nbconvert_exporter": "python",
   "pygments_lexer": "ipython3",
   "version": "3.7.6"
  }
 },
 "nbformat": 4,
 "nbformat_minor": 4
}
